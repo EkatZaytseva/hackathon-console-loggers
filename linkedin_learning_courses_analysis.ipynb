{
 "cells": [
  {
   "cell_type": "markdown",
   "metadata": {},
   "source": [
    "# LinkedIn Learning Courses Analysis\n",
    "\n",
    "This notebook analyses LinkedIn Courses taken by CaseWare employees. Created as part of hackathon 2020 by Oliver Phan,\n",
    "Ekat Zaytseva, Irina Balzamova, and Shweta Chandratre."
   ]
  },
  {
   "cell_type": "code",
   "execution_count": null,
   "metadata": {},
   "outputs": [],
   "source": [
    "# tags: configuration\n",
    "from cwi_notebook.configuration import notebook, inputs, outputs\n",
    "from cwi_taxonomy.v0.tags import *\n",
    "notebook.id=\"linkedin_learning_courses_analysis\"\n",
    "notebook.version=\"1.0.0\"\n",
    "notebook.autorun=False\n",
    "\n",
    "outputs.transaction_scores.columns = [AMOUNT, POSTING_DATE, ACCOUNT_ID, ACCOUNT_MAIN_DESCRIPTION]"
   ]
  },
  {
   "cell_type": "code",
<<<<<<< HEAD
   "execution_count": 4,
   "metadata": {},
   "outputs": [
    {
     "data": {
      "text/plain": [
       "[{'state': 'START', 'dataType': 'Transaction'},\n",
       " {'state': 'ERROR',\n",
       "  'message': \"ENOENT: no such file or directory, open './organizations.json'\"}]"
      ]
     },
     "execution_count": 4,
     "metadata": {},
     "output_type": "execute_result"
    }
   ],
=======
   "execution_count": null,
   "metadata": {},
   "outputs": [],
>>>>>>> 10a24a487e72757f18da0e94f25d95e5e797f72e
   "source": [
    "import pandas as pd\n",
    "import requests\n",
    "import ndjson\n",
    "\n",
    "AUTH_ENDPOINT = 'http://localhost:3000/auth'\n",
    "ORGANIZATIONS_ENDPOINT = 'http://localhost:3000/organizations'\n",
<<<<<<< HEAD
    "ACCOUNTS_ENDPOINT = 'http://localhost:3000/organizations/accounts/{1}'\n",
=======
    "ACCOUNTS_ENDPOINT = 'http://localhost:3000/organizations/*/accounts'\n",
>>>>>>> 10a24a487e72757f18da0e94f25d95e5e797f72e
    "TRANSACTIONS_ENDPOINT = 'http://localhost:3000/organizations/1/accounts/*/transactions'\n",
    "\n",
    "# TODO: Setup Linkedin endpoints to agree with these ids for filtering\n",
    "LINKEDIN_ORGID = \"123\"\n",
    "COURSE_ID = 123\n",
    "COURSE_VIEW_ID = 123\n",
    "\n",
    "\n",
    "# TODO: Setup Linkedin binding with agreed upon user/password & returned access token format\n",
    "def authenticate_against_p19k():\n",
    "    provider_bindings_token = requests.post(AUTH_ENDPOINT, json={\"user\": \"linkedin\", \"password\": \"linkedin\"})\n",
    "    return provider_bindings_token.json()\n",
    "\n",
    "def get_organizations():\n",
    "    token = authenticate_against_p19k()\n",
    "    response = requests.get(format(ORGANIZATIONS_ENDPOINT),\n",
    "                                 headers={\"x-cwi-binding-token\": token['accessToken']})\n",
    "    organizations = response.json(cls=ndjson.Decoder)\n",
    "    return organizations\n",
    "    # TODO: Load into dataframe\n",
    "    \n",
    "def get_accounts():\n",
    "    token = authenticate_against_p19k()\n",
    "    response = requests.get(format(ACCOUNTS_ENDPOINT),\n",
    "                                 headers={\"x-cwi-binding-token\": token['accessToken']})\n",
    "    accounts = response.json(cls=ndjson.Decoder)\n",
    "    print(accounts)\n",
    "    # TODO: Load into dataframe\n",
    "\n",
    "def get_transactions():\n",
    "    token = authenticate_against_p19k()\n",
    "    response = requests.get(format(TRANSACTIONS_ENDPOINT),\n",
    "                                 headers={\"x-cwi-binding-token\": token['accessToken']})\n",
    "    transactions = response.json(cls=ndjson.Decoder)\n",
<<<<<<< HEAD
    "    return transactions\n",
=======
    "    print(transactions)\n",
    "    # TODO: Load into dataframe\n",
>>>>>>> 10a24a487e72757f18da0e94f25d95e5e797f72e
    "\n",
    "# function to import data from p19k linkedin binding\n",
    "def import_p19k_data() -> pd.DataFrame:\n",
    "    pass\n",
    "\n",
    "get_transactions()\n",
    "\n",
    "# TODO: Wrap the json into ndjson -> dataframe\n",
    "# def sample_p19k_request():\n",
    "#     r = requests.get('http://localhost:3000/health')\n",
    "#     print(r.status_code)\n",
    "#     print(r.content)"
   ]
  },
  {
   "cell_type": "code",
   "execution_count": null,
   "metadata": {},
   "outputs": [],
   "source": [
    "from datetime import date, datetime\n",
    "from cwi_notebook import data_loader\n",
    "# tags: evaluate\n",
    "# function to find most popular courses, returns sorted list of courses by popularity\n",
    "def evaluate(top, date_after) -> pd.DataFrame:\n",
    "    data = data_loader.load_data(inputs)\n",
    "    df = data[['entry_id', 'line_number', 'account_id', 'account_main_description', 'amount', 'posting_date']]\n",
    "    df = df[df['posting_date'] > datetime.combine(date_after, datetime.min.time())]\n",
    "    df = df.drop_duplicates('entry_id')\n",
    "    df = df.sort_values(['amount'], ascending=False)\n",
    "    return df.head(top)"
   ]
  },
  {
   "cell_type": "code",
   "execution_count": null,
   "metadata": {},
   "outputs": [],
   "source": [
    "# tags: visualization\n",
    "import ipywidgets as widgets\n",
    "import matplotlib.pyplot as plt\n",
    "options = [10, 20]\n",
    "top_selector = widgets.Dropdown(\n",
    "    options=options,\n",
    "    description='View top',\n",
    "    value=options[0],\n",
    "    layout=widgets.Layout(width='10%',height='40px')\n",
    ")\n",
    "date_selector = widgets.DatePicker(\n",
    "    value=date.today()\n",
    ")\n",
    "def execute_score(top_items, date_filter):\n",
    "    result = evaluate(top_items, date_filter)\n",
    "    plt.figure(figsize=(top_items, 5 * top_items / 10))\n",
    "    plt.bar(result['account_id'], result['amount'])\n",
    "    plt.xlabel('Courses', fontsize=14)\n",
    "    plt.ylabel('Views', fontsize=14)\n",
    "    plt.title(f'Top {top_items} LinkedIn Courses since {date_filter}', fontsize=14)\n",
    "    plt.show()\n",
    "\n",
    "widgets.interact(execute_score, top_items=top_selector, date_filter=date_selector)\n"
   ]
  }
 ],
 "metadata": {
  "kernelspec": {
   "display_name": "Python 3",
   "language": "python",
   "name": "python3"
  },
  "language_info": {
   "codemirror_mode": {
    "name": "ipython",
    "version": 3
   },
   "file_extension": ".py",
   "mimetype": "text/x-python",
   "name": "python",
   "nbconvert_exporter": "python",
   "pygments_lexer": "ipython3",
   "version": "3.7.9"
  }
 },
 "nbformat": 4,
 "nbformat_minor": 4
}
