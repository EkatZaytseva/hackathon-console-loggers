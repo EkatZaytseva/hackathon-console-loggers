{
 "cells": [
  {
   "cell_type": "markdown",
   "metadata": {},
   "source": [
    "# LinkedIn Learning Courses Analysis\n",
    "\n",
    "This notebook analyses LinkedIn Courses taken by CaseWare employees. Created as part of hackathon 2020 by Oliver Phan,\n",
    "Ekat Zaytseva, Irina Balzamova, and Shweta Chandratre."
   ]
  },
  {
   "cell_type": "code",
   "execution_count": 1,
   "metadata": {
    "pycharm": {
     "name": "#%%\n"
    }
   },
   "outputs": [],
   "source": [
    "# tags: configuration\n",
    "from cwi_notebook.configuration import notebook, inputs, outputs\n",
    "from cwi_taxonomy.v0.tags import *\n",
    "notebook.id=\"linkedin_learning_courses_analysis\"\n",
    "notebook.version=\"1.0.0\"\n",
    "notebook.autorun=False\n",
    "\n",
    "outputs.transaction_scores.columns = [AMOUNT, POSTING_DATE, ACCOUNT_ID, ACCOUNT_MAIN_DESCRIPTION]"
   ]
  },
  {
   "cell_type": "code",
   "execution_count": 2,
   "metadata": {
    "pycharm": {
     "name": "#%%\n"
    }
   },
   "outputs": [],
   "source": [
    "import pandas as pd\n",
    "\n",
    "# function to import data from p19k linkedin binding\n",
    "def import_p19k_data() -> pd.DataFrame:\n",
    "    pass"
   ]
  },
  {
   "cell_type": "code",
   "execution_count": 3,
   "metadata": {
    "pycharm": {
     "name": "#%%\n"
    }
   },
   "outputs": [
    {
     "name": "stdout",
     "output_type": "stream",
     "text": [
      "                                  entry_id line_number   account_id  \\\n",
      "4375  186c6614-eaa4-4479-8558-ae50c3eed9eb           1    2.1.1.1.0   \n",
      "5195  0c5dd49d-f894-4992-a2f3-ba22b55de7d9           1     1.3.4.14   \n",
      "2810  5fca6456-733e-458e-aa9f-14de449b089c           1  2.1.2.1.1.0   \n",
      "245   51ff4787-7f29-49ba-9d1e-cf8b29afcd3e           1        1.2.0   \n",
      "1410  1094c30a-ec8d-48b0-84c5-0fe7b441b713           1    2.2.2.2.2   \n",
      "...                                    ...         ...          ...   \n",
      "6215  7e0aa33d-11c4-43a0-9b0b-e9ca30bfdb8b           1        1.2.0   \n",
      "3580  e199d232-d83d-437a-8cea-c0dde948ddea           1    2.1.1.4.1   \n",
      "4710  00a6bc40-8994-42e2-a632-22368452a664           1     1.3.4.15   \n",
      "5430  83337962-79fc-4b2e-b526-336e2661c271           1      1.4.5.0   \n",
      "3315  5993fd38-7fc1-4ccd-941f-4c256786cbce           1      2.1.1.5   \n",
      "\n",
      "         amount posting_date  \n",
      "4375 -100999.00   2017-06-30  \n",
      "5195 -100999.00   2017-09-15  \n",
      "2810 -100999.00   2017-11-04  \n",
      "245  -100999.00   2017-04-06  \n",
      "1410 -100999.00   2017-08-14  \n",
      "...         ...          ...  \n",
      "6215  109266.31   2017-01-09  \n",
      "3580  109341.47   2017-12-22  \n",
      "4710  109382.96   2017-04-03  \n",
      "5430  109485.10   2017-06-22  \n",
      "3315  109498.81   2017-09-20  \n",
      "\n",
      "[1250 rows x 5 columns]\n"
     ]
    }
   ],
   "source": [
    "from cwi_notebook import data_loader\n",
    "# tags: evaluate\n",
    "# function to find most popular courses, returns sorted list of courses by popularity\n",
    "# todo: add date filter to this like \"entries after X\"\n",
    "def evaluate(data: pd.DataFrame) -> pd.DataFrame:\n",
    "    df = data[['entry_id', 'line_number', 'account_id', 'amount', 'posting_date']]\n",
    "    # todo: assumption here is that entry_id is unique\n",
    "    df = df.drop_duplicates('entry_id')\n",
    "    df = df.sort_values(['amount'])\n",
    "    return df\n",
    "\n",
    "# replace sample loader with p19k_data call above\n",
    "print(evaluate(data_loader.load_data(inputs)))"
   ]
  },
  {
   "cell_type": "code",
   "execution_count": 4,
   "metadata": {
    "pycharm": {
     "name": "#%%\n"
    }
   },
   "outputs": [],
   "source": [
    "# tags: visualization\n",
    "# here the chart and date selector will go"
   ]
  }
 ],
 "metadata": {
  "kernelspec": {
   "display_name": "Python 3",
   "language": "python",
   "name": "python3"
  },
  "language_info": {
   "codemirror_mode": {
    "name": "ipython",
    "version": 3
   },
   "file_extension": ".py",
   "mimetype": "text/x-python",
   "name": "python",
   "nbconvert_exporter": "python",
   "pygments_lexer": "ipython3",
   "version": "3.7.9"
  }
 },
 "nbformat": 4,
 "nbformat_minor": 1
}