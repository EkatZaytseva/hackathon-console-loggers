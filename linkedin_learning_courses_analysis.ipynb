{
 "cells": [
  {
   "cell_type": "markdown",
   "source": [
    "# LinkedIn Learning Courses Analysis\n",
    "\n",
    "This notebook analyses LinkedIn Courses taken by CaseWare employees. Created as part of hackathon 2020 by Oliver Phan,\n",
    "Ekat Zaytseva, Irina Balzamova, and Shweta Chandratre."
   ],
   "metadata": {
    "collapsed": false
   }
  },
  {
   "cell_type": "code",
   "execution_count": null,
   "outputs": [],
   "source": [
    "# tags: configuration\n",
    "from cwi_notebook.configuration import notebook, inputs, outputs\n",
    "from cwi_taxonomy.v0.tags import *\n",
    "notebook.id=\"linkedin_learning_courses_analysis\"\n",
    "notebook.version=\"1.0.0\"\n",
    "notebook.autorun=False\n",
    "\n",
    "inputs.transactions.required_columns = [AMOUNT, POSTING_DATE, ACCOUNT_ID, ACCOUNT_MAIN_DESCRIPTION]\n",
    "outputs.transaction_scores.columns = [AMOUNT, POSTING_DATE, ACCOUNT_ID, ACCOUNT_MAIN_DESCRIPTION]"
   ],
   "metadata": {
    "collapsed": false,
    "pycharm": {
     "name": "#%%\n"
    }
   }
  },
  {
   "cell_type": "code",
   "execution_count": null,
   "outputs": [],
   "source": [
    "import pandas as pd\n",
    "\n",
    "# function to import data from p19k linkedin binding\n",
    "def import_p19k_data() -> pd.DataFrame:\n",
    "    pass"
   ],
   "metadata": {
    "collapsed": false,
    "pycharm": {
     "name": "#%%\n"
    }
   }
  },
  {
   "cell_type": "code",
   "execution_count": null,
   "outputs": [],
   "source": [
    "# tags: evaluate\n",
    "# function to find most popular courses, returns sorted list of courses by popularity\n",
    "def evaluate(data: pd.DataFrame) -> pd.DataFrame:\n",
    "    pass"
   ],
   "metadata": {
    "collapsed": false,
    "pycharm": {
     "name": "#%%\n"
    }
   }
  },
  {
   "cell_type": "code",
   "execution_count": null,
   "outputs": [],
   "source": [
    "# tags: visualization\n",
    "# here the chart and date selector will go"
   ],
   "metadata": {
    "collapsed": false,
    "pycharm": {
     "name": "#%%\n"
    }
   }
  }
 ],
 "metadata": {
  "kernelspec": {
   "display_name": "Python 3",
   "language": "python",
   "name": "python3"
  },
  "language_info": {
   "codemirror_mode": {
    "name": "ipython",
    "version": 2
   },
   "file_extension": ".py",
   "mimetype": "text/x-python",
   "name": "python",
   "nbconvert_exporter": "python",
   "pygments_lexer": "ipython2",
   "version": "2.7.6"
  }
 },
 "nbformat": 4,
 "nbformat_minor": 0
}