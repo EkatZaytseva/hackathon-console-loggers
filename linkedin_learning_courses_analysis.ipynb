{
 "cells": [
  {
   "cell_type": "markdown",
   "metadata": {},
   "source": [
    "# LinkedIn Learning Courses Analysis\n",
    "\n",
    "This notebook analyses LinkedIn Courses taken by CaseWare employees. Created as part of hackathon 2020 by Oliver Phan,\n",
    "Ekat Zaytseva, Irina Balzamova, and Shweta Chandratre."
   ]
  },
  {
   "cell_type": "code",
   "execution_count": null,
   "metadata": {},
   "outputs": [],
   "source": [
    "# tags: configuration\n",
    "from cwi_notebook.configuration import notebook, inputs, outputs\n",
    "from cwi_taxonomy.v0.tags import *\n",
    "notebook.id=\"linkedin_learning_courses_analysis\"\n",
    "notebook.version=\"1.0.0\"\n",
    "notebook.autorun=False\n",
    "\n",
    "outputs.transaction_scores.columns = [AMOUNT, POSTING_DATE, ACCOUNT_ID, ACCOUNT_MAIN_DESCRIPTION]"
   ]
  },
  {
   "cell_type": "code",
   "execution_count": null,
   "metadata": {},
   "outputs": [],
   "source": [
    "import pandas as pd\n",
    "\n",
    "AUTH_ENDPOINT = 'http://localhost:3000/auth'\n",
    "ORGANIZATIONS_ENDPOINT = 'http://localhost:3000/organizations/{0}'\n",
    "ACCOUNTS_ENDPOINT = 'http://localhost:3000/organizations/{0}/accounts/{1}'\n",
    "TRANSACTIONS_ENDPOINT = 'http://localhost:3000/organizations/{0}/accounts/{1}/transactions{2}'\n",
    "\n",
    "# TODO: Setup Linkedin endpoints to agree with these ids for filtering\n",
    "LINKEDIN_ORGID = 123\n",
    "COURSE_ID = 123\n",
    "COURSE_VIEW_ID = 123\n",
    "\n",
    "\n",
    "# TODO: Setup Linkedin binding with agreed upon user/password & returned access token format\n",
    "def authenticate_against_p19k():\n",
    "    provider_bindings_token = \n",
    "        requests.post(AUTH_ENDPOINT, json={\"user\": \"linkedin\", \"password\": \"linkedin\"})\n",
    "    return provider_bindings_token\n",
    "\n",
    "def get_organizations():\n",
    "    token = authenticate_against_p19k()\n",
    "    organizations = requests.get(format(ORGANIZATIONS_ENDPOINT, LINKEDIN_ORGID),\n",
    "                                 headers={\"x-cwi-binding-token\": token.access_token})\n",
    "    # TODO: Load into dataframe\n",
    "    \n",
    "def get_accounts():\n",
    "    token = authenticate_against_p19k()\n",
    "    accounts = requests.get(format(ACCOUNTS_ENDPOINT, LINKEDIN_ORGID, COURSE_ID),\n",
    "                                 headers={\"x-cwi-binding-token\": token.access_token})\n",
    "    # TODO: Load into dataframe\n",
    "\n",
    "def get_transactions():\n",
    "    token = authenticate_against_p19k()\n",
    "    accounts = requests.get(format(TRANSACTIONS_ENDPOINT, LINKEDIN_ORGID, COURSE_ID, ),\n",
    "                                 headers={\"x-cwi-binding-token\": token.access_token})\n",
    "\n",
    "# function to import data from p19k linkedin binding\n",
    "def import_p19k_data() -> pd.DataFrame:\n",
    "    \n",
    "\n",
    "# TODO: Wrap the json into ndjson -> dataframe\n",
    "# def sample_p19k_request():\n",
    "#     r = requests.get('http://localhost:3000/health')\n",
    "#     print(r.status_code)\n",
    "#     print(r.content)"
   ]
  },
  {
   "cell_type": "code",
   "execution_count": null,
   "metadata": {},
   "outputs": [],
   "source": [
    "from cwi_notebook import data_loader\n",
    "# tags: evaluate\n",
    "# function to find most popular courses, returns sorted list of courses by popularity\n",
    "# todo: add date filter to this like \"entries after X\"\n",
    "def evaluate(data: pd.DataFrame) -> pd.DataFrame:\n",
    "    df = data[['entry_id', 'line_number', 'account_id', 'amount', 'posting_date']]\n",
    "    # todo: assumption here is that entry_id is unique\n",
    "    df = df.drop_duplicates('entry_id')\n",
    "    df = df.sort_values(['amount'])\n",
    "    return df\n",
    "\n",
    "# replace sample loader with p19k_data call above\n",
    "print(evaluate(data_loader.load_data(inputs)))"
   ]
  },
  {
   "cell_type": "code",
   "execution_count": null,
   "metadata": {},
   "outputs": [],
   "source": [
    "# tags: visualization\n",
    "# here the chart and date selector will go"
   ]
  }
 ],
 "metadata": {
  "kernelspec": {
   "display_name": "Python 3",
   "language": "python",
   "name": "python3"
  },
  "language_info": {
   "codemirror_mode": {
    "name": "ipython",
    "version": 3
   },
   "file_extension": ".py",
   "mimetype": "text/x-python",
   "name": "python",
   "nbconvert_exporter": "python",
   "pygments_lexer": "ipython3",
   "version": "3.8.3"
  }
 },
 "nbformat": 4,
 "nbformat_minor": 1
}
